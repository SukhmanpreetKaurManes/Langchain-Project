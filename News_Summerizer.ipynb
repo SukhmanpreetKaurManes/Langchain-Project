{
  "nbformat": 4,
  "nbformat_minor": 0,
  "metadata": {
    "colab": {
      "provenance": [],
      "authorship_tag": "ABX9TyMDTW598VV+blaaYoekMDaX",
      "include_colab_link": true
    },
    "kernelspec": {
      "name": "python3",
      "display_name": "Python 3"
    },
    "language_info": {
      "name": "python"
    }
  },
  "cells": [
    {
      "cell_type": "markdown",
      "metadata": {
        "id": "view-in-github",
        "colab_type": "text"
      },
      "source": [
        "<a href=\"https://colab.research.google.com/github/SukhmanpreetKaurManes/Langchain-Project/blob/main/News_Summerizer.ipynb\" target=\"_parent\"><img src=\"https://colab.research.google.com/assets/colab-badge.svg\" alt=\"Open In Colab\"/></a>"
      ]
    },
    {
      "cell_type": "code",
      "execution_count": 5,
      "metadata": {
        "colab": {
          "base_uri": "https://localhost:8080/"
        },
        "id": "TEYpm3iydmSl",
        "outputId": "728408ae-4d62-422a-dd0d-f515b033728e"
      },
      "outputs": [
        {
          "output_type": "stream",
          "name": "stdout",
          "text": [
            "Requirement already satisfied: langchain in /usr/local/lib/python3.11/dist-packages (0.3.26)\n",
            "Requirement already satisfied: openai in /usr/local/lib/python3.11/dist-packages (1.93.3)\n",
            "Requirement already satisfied: requests in /usr/local/lib/python3.11/dist-packages (2.32.3)\n",
            "Requirement already satisfied: python-dotenv in /usr/local/lib/python3.11/dist-packages (1.1.1)\n",
            "Collecting langchain-openai\n",
            "  Downloading langchain_openai-0.3.27-py3-none-any.whl.metadata (2.3 kB)\n",
            "Requirement already satisfied: langchain-core<1.0.0,>=0.3.66 in /usr/local/lib/python3.11/dist-packages (from langchain) (0.3.68)\n",
            "Requirement already satisfied: langchain-text-splitters<1.0.0,>=0.3.8 in /usr/local/lib/python3.11/dist-packages (from langchain) (0.3.8)\n",
            "Requirement already satisfied: langsmith>=0.1.17 in /usr/local/lib/python3.11/dist-packages (from langchain) (0.4.4)\n",
            "Requirement already satisfied: pydantic<3.0.0,>=2.7.4 in /usr/local/lib/python3.11/dist-packages (from langchain) (2.11.7)\n",
            "Requirement already satisfied: SQLAlchemy<3,>=1.4 in /usr/local/lib/python3.11/dist-packages (from langchain) (2.0.41)\n",
            "Requirement already satisfied: PyYAML>=5.3 in /usr/local/lib/python3.11/dist-packages (from langchain) (6.0.2)\n",
            "Requirement already satisfied: anyio<5,>=3.5.0 in /usr/local/lib/python3.11/dist-packages (from openai) (4.9.0)\n",
            "Requirement already satisfied: distro<2,>=1.7.0 in /usr/local/lib/python3.11/dist-packages (from openai) (1.9.0)\n",
            "Requirement already satisfied: httpx<1,>=0.23.0 in /usr/local/lib/python3.11/dist-packages (from openai) (0.28.1)\n",
            "Requirement already satisfied: jiter<1,>=0.4.0 in /usr/local/lib/python3.11/dist-packages (from openai) (0.10.0)\n",
            "Requirement already satisfied: sniffio in /usr/local/lib/python3.11/dist-packages (from openai) (1.3.1)\n",
            "Requirement already satisfied: tqdm>4 in /usr/local/lib/python3.11/dist-packages (from openai) (4.67.1)\n",
            "Requirement already satisfied: typing-extensions<5,>=4.11 in /usr/local/lib/python3.11/dist-packages (from openai) (4.14.1)\n",
            "Requirement already satisfied: charset-normalizer<4,>=2 in /usr/local/lib/python3.11/dist-packages (from requests) (3.4.2)\n",
            "Requirement already satisfied: idna<4,>=2.5 in /usr/local/lib/python3.11/dist-packages (from requests) (3.10)\n",
            "Requirement already satisfied: urllib3<3,>=1.21.1 in /usr/local/lib/python3.11/dist-packages (from requests) (2.4.0)\n",
            "Requirement already satisfied: certifi>=2017.4.17 in /usr/local/lib/python3.11/dist-packages (from requests) (2025.7.9)\n",
            "Requirement already satisfied: tiktoken<1,>=0.7 in /usr/local/lib/python3.11/dist-packages (from langchain-openai) (0.9.0)\n",
            "Requirement already satisfied: httpcore==1.* in /usr/local/lib/python3.11/dist-packages (from httpx<1,>=0.23.0->openai) (1.0.9)\n",
            "Requirement already satisfied: h11>=0.16 in /usr/local/lib/python3.11/dist-packages (from httpcore==1.*->httpx<1,>=0.23.0->openai) (0.16.0)\n",
            "Requirement already satisfied: tenacity!=8.4.0,<10.0.0,>=8.1.0 in /usr/local/lib/python3.11/dist-packages (from langchain-core<1.0.0,>=0.3.66->langchain) (8.5.0)\n",
            "Requirement already satisfied: jsonpatch<2.0,>=1.33 in /usr/local/lib/python3.11/dist-packages (from langchain-core<1.0.0,>=0.3.66->langchain) (1.33)\n",
            "Requirement already satisfied: packaging<25,>=23.2 in /usr/local/lib/python3.11/dist-packages (from langchain-core<1.0.0,>=0.3.66->langchain) (24.2)\n",
            "Requirement already satisfied: orjson<4.0.0,>=3.9.14 in /usr/local/lib/python3.11/dist-packages (from langsmith>=0.1.17->langchain) (3.10.18)\n",
            "Requirement already satisfied: requests-toolbelt<2.0.0,>=1.0.0 in /usr/local/lib/python3.11/dist-packages (from langsmith>=0.1.17->langchain) (1.0.0)\n",
            "Requirement already satisfied: zstandard<0.24.0,>=0.23.0 in /usr/local/lib/python3.11/dist-packages (from langsmith>=0.1.17->langchain) (0.23.0)\n",
            "Requirement already satisfied: annotated-types>=0.6.0 in /usr/local/lib/python3.11/dist-packages (from pydantic<3.0.0,>=2.7.4->langchain) (0.7.0)\n",
            "Requirement already satisfied: pydantic-core==2.33.2 in /usr/local/lib/python3.11/dist-packages (from pydantic<3.0.0,>=2.7.4->langchain) (2.33.2)\n",
            "Requirement already satisfied: typing-inspection>=0.4.0 in /usr/local/lib/python3.11/dist-packages (from pydantic<3.0.0,>=2.7.4->langchain) (0.4.1)\n",
            "Requirement already satisfied: greenlet>=1 in /usr/local/lib/python3.11/dist-packages (from SQLAlchemy<3,>=1.4->langchain) (3.2.3)\n",
            "Requirement already satisfied: regex>=2022.1.18 in /usr/local/lib/python3.11/dist-packages (from tiktoken<1,>=0.7->langchain-openai) (2024.11.6)\n",
            "Requirement already satisfied: jsonpointer>=1.9 in /usr/local/lib/python3.11/dist-packages (from jsonpatch<2.0,>=1.33->langchain-core<1.0.0,>=0.3.66->langchain) (3.0.0)\n",
            "Downloading langchain_openai-0.3.27-py3-none-any.whl (70 kB)\n",
            "\u001b[2K   \u001b[90m━━━━━━━━━━━━━━━━━━━━━━━━━━━━━━━━━━━━━━━━\u001b[0m \u001b[32m70.4/70.4 kB\u001b[0m \u001b[31m3.1 MB/s\u001b[0m eta \u001b[36m0:00:00\u001b[0m\n",
            "\u001b[?25hInstalling collected packages: langchain-openai\n",
            "Successfully installed langchain-openai-0.3.27\n"
          ]
        }
      ],
      "source": [
        "!pip install langchain openai requests python-dotenv langchain-openai"
      ]
    },
    {
      "cell_type": "code",
      "source": [
        "import os\n",
        "\n",
        "# Paste your OpenRouter API key and NewsAPI key here\n",
        "os.environ[\"OPENROUTER_API_KEY\"] = \"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\"\n",
        "NEWS_API_KEY = \"ccdbd0d714584efdb7639422c7c60c1c\"\n"
      ],
      "metadata": {
        "id": "xUJkRtGaeOfV"
      },
      "execution_count": null,
      "outputs": []
    },
    {
      "cell_type": "code",
      "source": [
        "from langchain_openai import ChatOpenAI\n",
        "from langchain.prompts import PromptTemplate\n",
        "from langchain.chains import LLMChain\n",
        "#ChatOpenAI: Initializes your LLM interface with the API key\n",
        "#PromptTemplate: Lets you create reusable prompt formats with variables you can swap in dynamically.\n",
        "#LLMChain: Chains the prompt with the model and takes care of executing the pipeline\n",
        "\n",
        "llm = ChatOpenAI(\n",
        "    openai_api_base=\"https://openrouter.ai/api/v1\",\n",
        "    openai_api_key=os.environ[\"OPENROUTER_API_KEY\"],\n",
        "    model=\"mistralai/mistral-small-3.1-24b-instruct:free\",\n",
        "    temperature=0.5,    #  the temperature=0.5 parameter controls the randomness or creativity of the model’s output.\n",
        "    max_tokens=150\n",
        ")\n"
      ],
      "metadata": {
        "id": "sPYLqLArevKY"
      },
      "execution_count": 38,
      "outputs": []
    },
    {
      "cell_type": "code",
      "source": [
        "def setup_summarizer(llm):\n",
        "    from langchain.prompts import PromptTemplate\n",
        "\n",
        "    prompt = PromptTemplate(\n",
        "        input_variables=[\"article\"],\n",
        "        template=\"Summarize the following news article in simple language:\\n\\n{article}\"\n",
        "    )\n",
        "\n",
        "    chain = prompt | llm    #wiring your prompt directly to the model.\n",
        "    return chain\n",
        "\n"
      ],
      "metadata": {
        "id": "ytGSnp4KfJta"
      },
      "execution_count": 13,
      "outputs": []
    },
    {
      "cell_type": "code",
      "source": [
        "import requests\n",
        "\n",
        "def get_top_news(api_key, country=\"us\", category=\"general\", count=3):\n",
        "    url = f\"https://newsapi.org/v2/top-headlines?country={country}&category={category}&apiKey={api_key}\"\n",
        "    response = requests.get(url)\n",
        "    articles = response.json().get(\"articles\", [])[:count]\n",
        "    return articles\n",
        "\n",
        "#response.json() Converts the raw response from an HTTP request (via requests.get) into a Python dictionary.\n",
        "\n",
        "#.get(\"articles\", []) Retrieves the value associated with the \"articles\" key. If that key doesn’t exist, it returns an empty list by default.\n",
        "\n",
        "#[:count] Slices the list to return only the first count items.\n"
      ],
      "metadata": {
        "id": "VuQu6dKvfF0L"
      },
      "execution_count": 23,
      "outputs": []
    },
    {
      "cell_type": "code",
      "source": [
        "def summarize_articles(articles, summarizer):\n",
        "    summaries = []\n",
        "    for i, article in enumerate(articles):\n",
        "        content = article.get(\"description\") or article.get(\"content\") or \"\"\n",
        "        if not content.strip():\n",
        "            continue\n",
        "        result = summarizer.invoke({\"article\": content})\n",
        "        summaries.append((article[\"title\"], result))\n",
        "    return summaries\n"
      ],
      "metadata": {
        "id": "nDi5yOY5fOM9"
      },
      "execution_count": 14,
      "outputs": []
    },
    {
      "cell_type": "code",
      "source": [
        "# Step 1: Fetch news\n",
        "articles = get_top_news(NEWS_API_KEY)\n",
        "print(f\"Number of articles fetched: {len(articles)}\")\n",
        "for i, a in enumerate(articles, 1):\n",
        "    print(f\"\\n{i}. Title: {a.get('title')}\")\n",
        "    print(f\"   Description: {a.get('description')}\")\n",
        "\n",
        "# Step 2: Setup summarizer\n",
        "summarizer = setup_summarizer(llm)\n",
        "\n",
        "# Step 3: Get and print summaries\n",
        "summaries = summarize_articles(articles, summarizer)\n",
        "\n",
        "# Display\n",
        "for i, (title, summary) in enumerate(summaries, 1):\n",
        "    print(f\"\\n📰 Article {i}: {title}\\n📄 Summary: {summary}\\n{'-'*80}\")\n"
      ],
      "metadata": {
        "id": "yygJJQ2lfR9R",
        "colab": {
          "base_uri": "https://localhost:8080/"
        },
        "outputId": "525a490e-8ca8-4489-e339-1bc532e931e3"
      },
      "execution_count": 39,
      "outputs": [
        {
          "output_type": "stream",
          "name": "stdout",
          "text": [
            "Number of articles fetched: 3\n",
            "\n",
            "1. Title: Weekly News Quiz - AARP\n",
            "   Description: How much do you know about AARP’s big stories?\n",
            "\n",
            "2. Title: Column | Israeli plans for Gaza draw criticism of ‘concentration camps’ - The Washington Post\n",
            "   Description: Israeli Defense Minister Israel Katz has instructed the military to prepare to build a “humanitarian city” in Gaza that critics describe as a “concentration camp.”\n",
            "\n",
            "3. Title: 3I/Atlas: Mystery interstellar object could be the oldest known comet - BBC\n",
            "   Description: Scientists have been racing to discover the origins of 3I/Atlas since it was spotted last week.\n",
            "\n",
            "📰 Article 1: Weekly News Quiz - AARP\n",
            "📄 Summary: content='Sure, here\\'s a simple summary of the topic:\\n\\nAARP, which stands for American Association of Retired Persons, is an organization that focuses on issues important to people aged 50 and over. They cover various topics that are significant to their members, such as healthcare, retirement planning, social security, and other concerns related to aging. The \"big stories\" refer to the most important or impactful news and updates that AARP shares with its members. These stories often highlight changes in policies, new research on aging, or tips for healthy living in older age.\\n\\nIf you want to know more about AARP\\'s big stories, you might look into their publications, website, or newsletters, where they regularly update their members' additional_kwargs={'refusal': None} response_metadata={'token_usage': {'completion_tokens': 150, 'prompt_tokens': 27, 'total_tokens': 177, 'completion_tokens_details': None, 'prompt_tokens_details': None}, 'model_name': 'mistralai/mistral-small-3.1-24b-instruct:free', 'system_fingerprint': None, 'id': 'gen-1752324887-WNQUj3Sf93eyLm3NC48H', 'service_tier': None, 'finish_reason': 'length', 'logprobs': None} id='run--5fe91f20-8f47-4813-beb6-b6369fc15b7a-0' usage_metadata={'input_tokens': 27, 'output_tokens': 150, 'total_tokens': 177, 'input_token_details': {}, 'output_token_details': {}}\n",
            "--------------------------------------------------------------------------------\n",
            "\n",
            "📰 Article 2: Column | Israeli plans for Gaza draw criticism of ‘concentration camps’ - The Washington Post\n",
            "📄 Summary: content='Here\\'s a simplified summary:\\n\\nIsraeli Defense Minister Israel Katz has ordered the military to get ready to build a \"humanitarian city\" in Gaza. Some people who disagree with this plan call it a \"concentration camp.\"' additional_kwargs={'refusal': None} response_metadata={'token_usage': {'completion_tokens': 47, 'prompt_tokens': 47, 'total_tokens': 94, 'completion_tokens_details': None, 'prompt_tokens_details': None}, 'model_name': 'mistralai/mistral-small-3.1-24b-instruct:free', 'system_fingerprint': None, 'id': 'gen-1752324890-6e8isw97eHu4JEAuogxv', 'service_tier': None, 'finish_reason': 'stop', 'logprobs': None} id='run--d10fb488-6ceb-400e-b482-15931f8d33aa-0' usage_metadata={'input_tokens': 47, 'output_tokens': 47, 'total_tokens': 94, 'input_token_details': {}, 'output_token_details': {}}\n",
            "--------------------------------------------------------------------------------\n",
            "\n",
            "📰 Article 3: 3I/Atlas: Mystery interstellar object could be the oldest known comet - BBC\n",
            "📄 Summary: content='Scientists are quickly trying to figure out where a comet called 3I/Atlas came from after it was seen last week.' additional_kwargs={'refusal': None} response_metadata={'token_usage': {'completion_tokens': 28, 'prompt_tokens': 37, 'total_tokens': 65, 'completion_tokens_details': None, 'prompt_tokens_details': None}, 'model_name': 'mistralai/mistral-small-3.1-24b-instruct:free', 'system_fingerprint': None, 'id': 'gen-1752324892-dGQpWuxoMLssSeshA0Ik', 'service_tier': None, 'finish_reason': 'stop', 'logprobs': None} id='run--fd492d33-c0dc-4107-ba3a-246bd83b7cd2-0' usage_metadata={'input_tokens': 37, 'output_tokens': 28, 'total_tokens': 65, 'input_token_details': {}, 'output_token_details': {}}\n",
            "--------------------------------------------------------------------------------\n"
          ]
        }
      ]
    }
  ]
}